{
 "cells": [
  {
   "cell_type": "code",
   "execution_count": 1,
   "id": "e5b4becf-eccd-4a84-b34a-94f45d1b8856",
   "metadata": {},
   "outputs": [
    {
     "name": "stdout",
     "output_type": "stream",
     "text": [
      "Hello World!\n"
     ]
    }
   ],
   "source": [
    "#W2A1\n",
    "print(\"Hello World!\")"
   ]
  },
  {
   "cell_type": "code",
   "execution_count": 2,
   "id": "1e8e1427-0d6d-4b1d-9acc-95fbb9c97d5e",
   "metadata": {},
   "outputs": [
    {
     "name": "stdin",
     "output_type": "stream",
     "text": [
      " Hieu\n"
     ]
    },
    {
     "name": "stdout",
     "output_type": "stream",
     "text": [
      "Chao Hieu\n"
     ]
    }
   ],
   "source": [
    "#W2A2\n",
    "ten = str(input())\n",
    "print(\"Chao\", ten)"
   ]
  },
  {
   "cell_type": "code",
   "execution_count": 3,
   "id": "d3b586a0-4340-4df6-bd19-85aba75e46de",
   "metadata": {},
   "outputs": [
    {
     "name": "stdin",
     "output_type": "stream",
     "text": [
      " 3 5\n"
     ]
    },
    {
     "name": "stdout",
     "output_type": "stream",
     "text": [
      "3 + 5 = 8\n",
      "3 - 5 = -2\n",
      "3 * 5 = 15\n",
      "3 // 5 = 0\n",
      "3 % 5 = 3\n",
      "3 / 5 = 0.60\n"
     ]
    }
   ],
   "source": [
    "#W2A3\n",
    "a, b = map(int, input().split())\n",
    "print(f'{a} + {b} = {a + b}')\n",
    "print(f'{a} - {b} = {a - b}')\n",
    "print(f'{a} * {b} = {a * b}')\n",
    "print(f'{a} // {b} = {a // b}')\n",
    "print(f'{a} % {b} = {a % b}')\n",
    "print(f'{a} / {b} = {a / b:.2f}')"
   ]
  },
  {
   "cell_type": "code",
   "execution_count": 5,
   "id": "c10ba151-a519-45ba-9fbc-2e65af7c7ea7",
   "metadata": {},
   "outputs": [
    {
     "name": "stdin",
     "output_type": "stream",
     "text": [
      " 10 10 10 10 10 1\n"
     ]
    },
    {
     "name": "stdout",
     "output_type": "stream",
     "text": [
      "7.3\n"
     ]
    }
   ],
   "source": [
    "#W2A4\n",
    "a1, b1, c1, a2, b2, a3 = map(float, input().split())\n",
    "print(f'{((a1 + b1 + c1) + (a2 + b2) * 2 + a3 * 3) / 10:.1f}')"
   ]
  },
  {
   "cell_type": "code",
   "execution_count": 6,
   "id": "1a9984e5-3ec7-456f-9068-e0b6b190733f",
   "metadata": {},
   "outputs": [
    {
     "name": "stdin",
     "output_type": "stream",
     "text": [
      " 2 3\n"
     ]
    },
    {
     "name": "stdout",
     "output_type": "stream",
     "text": [
      "8\n"
     ]
    }
   ],
   "source": [
    "#W2A5\n",
    "a, b = map(int, input().split())\n",
    "print(a**b)"
   ]
  },
  {
   "cell_type": "code",
   "execution_count": 7,
   "id": "ba6dfbd0-ab2c-4577-a56b-d8ecb7f3722d",
   "metadata": {},
   "outputs": [
    {
     "name": "stdin",
     "output_type": "stream",
     "text": [
      " a\n"
     ]
    },
    {
     "name": "stdout",
     "output_type": "stream",
     "text": [
      "97\n",
      "A\n"
     ]
    }
   ],
   "source": [
    "#W2A6\n",
    "a = input()\n",
    "print(ord(a))\n",
    "print(a.upper())"
   ]
  },
  {
   "cell_type": "code",
   "execution_count": 8,
   "id": "e1fb848b-11f6-4e83-9287-6865757c2906",
   "metadata": {},
   "outputs": [
    {
     "name": "stdout",
     "output_type": "stream",
     "text": [
      "512 512\n"
     ]
    }
   ],
   "source": [
    "#W2A7\n",
    "A = ((13**2)*3 + 5)\n",
    "B = 13**2*3 + 5\n",
    "print(A,B)"
   ]
  },
  {
   "cell_type": "code",
   "execution_count": 9,
   "id": "01a4c5f2-a34a-4b85-9170-c3e44c07e642",
   "metadata": {},
   "outputs": [
    {
     "name": "stdin",
     "output_type": "stream",
     "text": [
      " 20\n"
     ]
    },
    {
     "name": "stdout",
     "output_type": "stream",
     "text": [
      "68.00\n"
     ]
    }
   ],
   "source": [
    "#W2A8\n",
    "c = int(input())\n",
    "print(f'{9 * c / 5 + 32:.2f}')"
   ]
  },
  {
   "cell_type": "code",
   "execution_count": 10,
   "id": "ef120a21-3594-49d6-a86a-2b8634495ac4",
   "metadata": {},
   "outputs": [
    {
     "name": "stdin",
     "output_type": "stream",
     "text": [
      " 100\n"
     ]
    },
    {
     "name": "stdout",
     "output_type": "stream",
     "text": [
      "150.00\n"
     ]
    }
   ],
   "source": [
    "#W2A9\n",
    "x = int(input())\n",
    "tien = x * 140 / 100 + 10\n",
    "print(f'{tien:.2f}')"
   ]
  },
  {
   "cell_type": "code",
   "execution_count": 12,
   "id": "05f2587d-1c2c-4f63-8c85-9084f39f23d1",
   "metadata": {},
   "outputs": [
    {
     "name": "stdin",
     "output_type": "stream",
     "text": [
      " A B C\n"
     ]
    },
    {
     "name": "stdout",
     "output_type": "stream",
     "text": [
      "Hi C, B and A.\n"
     ]
    }
   ],
   "source": [
    "#W2A10\n",
    "a, b, c = map(str, input().split())\n",
    "print(f\"Hi {c}, {b} and {a}.\")"
   ]
  },
  {
   "cell_type": "code",
   "execution_count": 13,
   "id": "34ea9750-d185-4466-b4d2-0b270757740d",
   "metadata": {},
   "outputs": [
    {
     "name": "stdin",
     "output_type": "stream",
     "text": [
      " 1 20\n"
     ]
    },
    {
     "name": "stdout",
     "output_type": "stream",
     "text": [
      "4800\n"
     ]
    }
   ],
   "source": [
    "#W2A11\n",
    "h, m = map(int, input().split())\n",
    "print(h * 3600 + m * 60)"
   ]
  },
  {
   "cell_type": "code",
   "execution_count": 14,
   "id": "730a0f17-0c2d-47fe-bf89-d9494e75fe7a",
   "metadata": {},
   "outputs": [
    {
     "name": "stdin",
     "output_type": "stream",
     "text": [
      " 1\n"
     ]
    },
    {
     "name": "stdout",
     "output_type": "stream",
     "text": [
      "6\n"
     ]
    }
   ],
   "source": [
    "#W2A12\n",
    "n = int(input())\n",
    "print(n * n * 6)"
   ]
  },
  {
   "cell_type": "code",
   "execution_count": 17,
   "id": "6ac7c7eb-a9d3-4919-9621-408ec39e2a56",
   "metadata": {},
   "outputs": [
    {
     "name": "stdin",
     "output_type": "stream",
     "text": [
      " 2 6\n"
     ]
    },
    {
     "name": "stdout",
     "output_type": "stream",
     "text": [
      "2\n"
     ]
    }
   ],
   "source": [
    "#W2A13\n",
    "a, b = map(int, input().split())\n",
    "print((a * b) % 10)"
   ]
  },
  {
   "cell_type": "code",
   "execution_count": 18,
   "id": "667f804d-eeba-4075-b3a3-6b4d739fbc00",
   "metadata": {},
   "outputs": [
    {
     "name": "stdin",
     "output_type": "stream",
     "text": [
      " 2 5\n"
     ]
    },
    {
     "name": "stdout",
     "output_type": "stream",
     "text": [
      "5 2\n"
     ]
    }
   ],
   "source": [
    "#W2A15\n",
    "a, b = map(int, input().split())\n",
    "a, b = b, a\n",
    "print(a, b)"
   ]
  },
  {
   "cell_type": "code",
   "execution_count": 20,
   "id": "1a6c3ce2-929b-42d9-a408-9ff5f56edd09",
   "metadata": {},
   "outputs": [
    {
     "name": "stdin",
     "output_type": "stream",
     "text": [
      " 6\n"
     ]
    },
    {
     "name": "stdout",
     "output_type": "stream",
     "text": [
      "181\n"
     ]
    }
   ],
   "source": [
    "n = int(input())\n",
    "print(n * (6 * n - 6) + 1)"
   ]
  },
  {
   "cell_type": "code",
   "execution_count": 22,
   "id": "89948d61-1d23-4591-98e2-c8e56c483401",
   "metadata": {},
   "outputs": [
    {
     "name": "stdout",
     "output_type": "stream",
     "text": [
      "Spring\n",
      "Summer\n",
      "Autumn\n",
      "Winter\n",
      "\n"
     ]
    }
   ],
   "source": [
    "#W2A16\n",
    "print(\"Spring\\nSummer\\nAutumn\\nWinter\\n\")"
   ]
  },
  {
   "cell_type": "code",
   "execution_count": 23,
   "id": "af044216-844d-4ca4-8028-39f1d2fa33de",
   "metadata": {},
   "outputs": [
    {
     "name": "stdout",
     "output_type": "stream",
     "text": [
      "*\n",
      "***\n",
      "*****\n"
     ]
    }
   ],
   "source": [
    "#W2A17\n",
    "print(\"*\")\n",
    "print(\"***\")\n",
    "print(\"*****\")"
   ]
  },
  {
   "cell_type": "code",
   "execution_count": 24,
   "id": "0622fd34-62f9-4276-9dbd-ceb0900092bb",
   "metadata": {},
   "outputs": [
    {
     "name": "stdout",
     "output_type": "stream",
     "text": [
      "\n",
      "###  # #   ### ###\n",
      " #   #  #   #   #\n",
      " #   #   #  #   #\n",
      " #   #  #   #   #\n",
      " #   # #    #   #\n",
      "\n"
     ]
    }
   ],
   "source": [
    "#W2A18\n",
    "print(\n",
    "'''\n",
    "###  # #   ### ###\n",
    " #   #  #   #   #\n",
    " #   #   #  #   #\n",
    " #   #  #   #   #\n",
    " #   # #    #   #\n",
    "'''    \n",
    ")"
   ]
  },
  {
   "cell_type": "code",
   "execution_count": 25,
   "id": "31e06c0e-1c50-44b6-a19c-531f201ffa70",
   "metadata": {},
   "outputs": [
    {
     "name": "stdout",
     "output_type": "stream",
     "text": [
      "Monday\n",
      "Tuesday\n",
      "Wednesday\n",
      "Thursday\n",
      "Friday\n",
      "Saturday\n",
      "Sunday\n"
     ]
    }
   ],
   "source": [
    "#W2A19\n",
    "print(\n",
    "'''Monday\n",
    "Tuesday\n",
    "Wednesday\n",
    "Thursday\n",
    "Friday\n",
    "Saturday\n",
    "Sunday''')"
   ]
  },
  {
   "cell_type": "code",
   "execution_count": 26,
   "id": "bd39c83d-33fd-4c4f-a13b-3cdb0796d6b7",
   "metadata": {},
   "outputs": [
    {
     "name": "stdout",
     "output_type": "stream",
     "text": [
      "January\n",
      "February\n",
      "March\n",
      "April\n",
      "May\n",
      "June\n",
      "July\n",
      "August\n",
      "September\n",
      "October\n",
      "November\n",
      "December\n"
     ]
    }
   ],
   "source": [
    "#W2A20\n",
    "print(\n",
    "'''January\n",
    "February\n",
    "March\n",
    "April\n",
    "May\n",
    "June\n",
    "July\n",
    "August\n",
    "September\n",
    "October\n",
    "November\n",
    "December''')"
   ]
  },
  {
   "cell_type": "code",
   "execution_count": 27,
   "id": "282cea73-d8e4-424f-a64b-921f16ea9a7d",
   "metadata": {},
   "outputs": [
    {
     "name": "stdout",
     "output_type": "stream",
     "text": [
      "Hello world\n",
      "Hello world\n",
      "Hello world\n",
      "Hello world\n",
      "Hello world\n",
      "Hello world\n",
      "Hello world\n",
      "Hello world\n",
      "Hello world\n",
      "Hello world\n",
      "\n"
     ]
    }
   ],
   "source": [
    "#W2A21\n",
    "print(\"Hello world\\n\" * 10)"
   ]
  }
 ],
 "metadata": {
  "kernelspec": {
   "display_name": "Python 3 (ipykernel)",
   "language": "python",
   "name": "python3"
  },
  "language_info": {
   "codemirror_mode": {
    "name": "ipython",
    "version": 3
   },
   "file_extension": ".py",
   "mimetype": "text/x-python",
   "name": "python",
   "nbconvert_exporter": "python",
   "pygments_lexer": "ipython3",
   "version": "3.13.7"
  }
 },
 "nbformat": 4,
 "nbformat_minor": 5
}
