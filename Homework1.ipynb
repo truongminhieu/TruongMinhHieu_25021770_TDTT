{
 "cells": [
  {
   "cell_type": "code",
   "execution_count": 63,
   "id": "307debc4-785e-4842-911d-dd3beae6393e",
   "metadata": {},
   "outputs": [
    {
     "name": "stdin",
     "output_type": "stream",
     "text": [
      " 100\n"
     ]
    },
    {
     "name": "stdout",
     "output_type": "stream",
     "text": [
      "200\n"
     ]
    }
   ],
   "source": [
    "#BAI 1\n",
    "n = int(input())\n",
    "print(n * 2)"
   ]
  },
  {
   "cell_type": "code",
   "execution_count": 64,
   "id": "72733ced-4220-4599-8189-0eebff64336c",
   "metadata": {},
   "outputs": [
    {
     "name": "stdin",
     "output_type": "stream",
     "text": [
      " 2 5\n"
     ]
    },
    {
     "name": "stdout",
     "output_type": "stream",
     "text": [
      "6.86\n"
     ]
    }
   ],
   "source": [
    "#BAI 2\n",
    "a, b = map(int, input().split())\n",
    "r = a / 2;\n",
    "pi = 3.14\n",
    "print(f\"{a * b - pi * r * r:.2f}\")"
   ]
  },
  {
   "cell_type": "code",
   "execution_count": 65,
   "id": "4db09d47-ea71-4183-8c16-c568c76a50b2",
   "metadata": {},
   "outputs": [
    {
     "name": "stdin",
     "output_type": "stream",
     "text": [
      " A\n"
     ]
    },
    {
     "name": "stdout",
     "output_type": "stream",
     "text": [
      "a\n"
     ]
    }
   ],
   "source": [
    "#BAI 3\n",
    "c = input()\n",
    "if ('A' <= c <= 'Z'): print(chr(ord(c) + 32))\n",
    "else: print(chr(ord(c) - 32))"
   ]
  },
  {
   "cell_type": "code",
   "execution_count": 67,
   "id": "52f71821-8557-4173-a574-d3367008dbb6",
   "metadata": {},
   "outputs": [
    {
     "name": "stdin",
     "output_type": "stream",
     "text": [
      " 3\n"
     ]
    },
    {
     "name": "stdout",
     "output_type": "stream",
     "text": [
      "3 không phải là kí tự alphabet\n"
     ]
    }
   ],
   "source": [
    "#BAI 4\n",
    "c = input()\n",
    "if ('A' <= c <= 'Z' or 'a' <= c <= 'z'): print(f\"{c} là kí tự alphabet\")\n",
    "else: print(f\"{c} không phải là kí tự alphabet\")"
   ]
  },
  {
   "cell_type": "code",
   "execution_count": 69,
   "id": "e1736b91-1b83-4bfd-ab40-cffbecb5ab76",
   "metadata": {},
   "outputs": [
    {
     "name": "stdin",
     "output_type": "stream",
     "text": [
      " E\n"
     ]
    },
    {
     "name": "stdout",
     "output_type": "stream",
     "text": [
      "d\n"
     ]
    }
   ],
   "source": [
    "#BAI 5\n",
    "c = input()\n",
    "if (c == 'A'): print(\"Truong hop dac biet\")\n",
    "else: print(chr(ord(c) + 31))"
   ]
  },
  {
   "cell_type": "code",
   "execution_count": 71,
   "id": "b204fdb7-bc46-4cd3-8f4c-b77e16b957b5",
   "metadata": {},
   "outputs": [
    {
     "name": "stdin",
     "output_type": "stream",
     "text": [
      " 3 4 5\n"
     ]
    },
    {
     "name": "stdout",
     "output_type": "stream",
     "text": [
      "6.00\n"
     ]
    }
   ],
   "source": [
    "#BAI 6\n",
    "import math\n",
    "a, b, c = map(int, input().split())\n",
    "if (a + b > c and b + c > a and c + a > b): \n",
    "    p = (a + b + c) / 2\n",
    "    print(format(math.sqrt(p * (p - a) * (p - b) * (p - c)), \".2f\"))\n",
    "else: print(\"Khong phai 3 canh cua tam giac\")"
   ]
  },
  {
   "cell_type": "code",
   "execution_count": 72,
   "id": "1687dd65-7571-48ff-86de-fb82667582ce",
   "metadata": {},
   "outputs": [
    {
     "name": "stdin",
     "output_type": "stream",
     "text": [
      " hellocanha\n"
     ]
    },
    {
     "name": "stdout",
     "output_type": "stream",
     "text": [
      "o h\n"
     ]
    }
   ],
   "source": [
    "#BAI 7\n",
    "a = str(input())\n",
    "print(a[4], a[8])"
   ]
  },
  {
   "cell_type": "code",
   "execution_count": 74,
   "id": "d85dcfae-8c34-4b08-98ca-b2e23f82d7fc",
   "metadata": {},
   "outputs": [
    {
     "name": "stdin",
     "output_type": "stream",
     "text": [
      "Ten chu ho: Nguyen Xuan Long\n",
      "Chi so thang truoc: 2000\n",
      "Chi so thang nay: 2586\n"
     ]
    },
    {
     "name": "stdout",
     "output_type": "stream",
     "text": [
      "Ho va ten: Nguyen Xuan Long\n",
      "Tien phai tra la: 1855505\n"
     ]
    }
   ],
   "source": [
    "#BAI 8\n",
    "ten = input(\"Ten chu ho:\")\n",
    "a = int(input(\"Chi so thang truoc:\"))\n",
    "b = int(input(\"Chi so thang nay:\"))\n",
    "print(\"Ho va ten:\", ten)\n",
    "c = b - a;\n",
    "tien = 0;\n",
    "if (c >= 0): tien += min(c - 0, 50) * 1984\n",
    "if (c >= 51): tien += min(c - 50, 50) * 2050\n",
    "if (c >= 101): tien += min(c - 100, 100) * 2380\n",
    "if (c >= 201): tien += min(c - 200, 100) * 2998\n",
    "if (c >= 301): tien += min(c - 300, 100) * 3350\n",
    "if (c >= 401): tien += (c - 400) * 3460\n",
    "print(\"Tien phai tra la:\", f\"{tien * 108 / 100:.0f}\")"
   ]
  },
  {
   "cell_type": "code",
   "execution_count": null,
   "id": "18136aec-286f-4155-92fe-3171851846f9",
   "metadata": {},
   "outputs": [],
   "source": []
  }
 ],
 "metadata": {
  "kernelspec": {
   "display_name": "Python 3 (ipykernel)",
   "language": "python",
   "name": "python3"
  },
  "language_info": {
   "codemirror_mode": {
    "name": "ipython",
    "version": 3
   },
   "file_extension": ".py",
   "mimetype": "text/x-python",
   "name": "python",
   "nbconvert_exporter": "python",
   "pygments_lexer": "ipython3",
   "version": "3.13.7"
  }
 },
 "nbformat": 4,
 "nbformat_minor": 5
}
