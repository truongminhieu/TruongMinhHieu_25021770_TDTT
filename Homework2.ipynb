{
 "cells": [
  {
   "cell_type": "code",
   "execution_count": 1,
   "id": "62eecce8-3d93-4e99-a49a-c1333c2cd9a6",
   "metadata": {},
   "outputs": [
    {
     "name": "stdin",
     "output_type": "stream",
     "text": [
      " 3 4\n"
     ]
    },
    {
     "name": "stdout",
     "output_type": "stream",
     "text": [
      "12 14\n"
     ]
    }
   ],
   "source": [
    "#Bai 1\n",
    "a, b = map(int, input().split())\n",
    "print(a * b, 2 * (a + b))"
   ]
  },
  {
   "cell_type": "code",
   "execution_count": 7,
   "id": "e378378c-3e8a-4dfd-b34c-28f298bf1eb7",
   "metadata": {},
   "outputs": [
    {
     "name": "stdin",
     "output_type": "stream",
     "text": [
      " 4\n"
     ]
    },
    {
     "name": "stdout",
     "output_type": "stream",
     "text": [
      "50.26548245744 25.13274122872\n"
     ]
    }
   ],
   "source": [
    "#Bai 2\n",
    "r = int(input())\n",
    "pi = 3.14159265359\n",
    "print(r * r * pi, 2 * pi * r)"
   ]
  },
  {
   "cell_type": "code",
   "execution_count": 6,
   "id": "cf24dc41-b911-42ff-854a-dd168a10f875",
   "metadata": {},
   "outputs": [
    {
     "name": "stdin",
     "output_type": "stream",
     "text": [
      " 3 4 5\n"
     ]
    },
    {
     "name": "stdout",
     "output_type": "stream",
     "text": [
      "Tam giác vuông\n",
      "77.76888838089432 12\n"
     ]
    }
   ],
   "source": [
    "#Bai 3\n",
    "a, b, c = map(int, input().split())\n",
    "if (a + b > c and b + c > a and c + a > b):\n",
    "    if (a == b == c): print(\"Tam giác đều\")\n",
    "    elif ((a == b != c) or (b == c != a) or (c == a != b)): print(\"Tam giác cân\")\n",
    "    elif ((a * a + b * b == c * c) or (b * b + c * c == a * a) or (c * c + a * c == b * b)): print(\"Tam giác vuông\")\n",
    "    else: print(\"Tam giác thường\")\n",
    "else: print(\"Không phải là 3 cạnh của một tam giác\")\n",
    "p = a + b + c\n",
    "print((p * (p - a) * (p - b) * (p - c))**0.5, p)"
   ]
  },
  {
   "cell_type": "code",
   "execution_count": 8,
   "id": "2bfaf7c6-0c69-4046-a894-13d064fdf302",
   "metadata": {},
   "outputs": [
    {
     "name": "stdin",
     "output_type": "stream",
     "text": [
      " 2 3\n"
     ]
    },
    {
     "name": "stdout",
     "output_type": "stream",
     "text": [
      "-1.5\n"
     ]
    }
   ],
   "source": [
    "#Bai 4\n",
    "a, b = map(int, input().split())\n",
    "if (a == 0 and b == 0): print(\"Vô số nghiệm\")\n",
    "elif (a == 0 and b != 0): print(\"Vô nghiệm\")\n",
    "else: print(-b / a)"
   ]
  },
  {
   "cell_type": "code",
   "execution_count": 9,
   "id": "4b2bf239-9840-480e-8fe9-70a6aa1462bd",
   "metadata": {},
   "outputs": [
    {
     "name": "stdin",
     "output_type": "stream",
     "text": [
      " 1 2 1\n"
     ]
    },
    {
     "name": "stdout",
     "output_type": "stream",
     "text": [
      "-1.0\n"
     ]
    }
   ],
   "source": [
    "#Bai 5\n",
    "a, b, c = map(int, input().split())\n",
    "delta = b * b - 4 * a * c\n",
    "if (delta < 0): print(\"Vo nghiem\")\n",
    "elif (delta == 0): print(-b / (2 * a))\n",
    "else: print((-b - (delta**0.5)) / (2 * a), (-b + (delta**0.5)) / (2 * a))"
   ]
  },
  {
   "cell_type": "code",
   "execution_count": 10,
   "id": "02427e49-7cdd-40c9-8e87-d8f3ac02633a",
   "metadata": {},
   "outputs": [
    {
     "name": "stdin",
     "output_type": "stream",
     "text": [
      " 10 11 3 4\n"
     ]
    },
    {
     "name": "stdout",
     "output_type": "stream",
     "text": [
      "11\n"
     ]
    }
   ],
   "source": [
    "#Bai 6\n",
    "a, b, c, d = map(int, input().split())\n",
    "print(max(a, b, c, d))"
   ]
  },
  {
   "cell_type": "code",
   "execution_count": 11,
   "id": "2d30bf4b-522c-414f-92f1-075f55cb40b7",
   "metadata": {},
   "outputs": [
    {
     "name": "stdin",
     "output_type": "stream",
     "text": [
      " 10 11 3 4\n"
     ]
    },
    {
     "name": "stdout",
     "output_type": "stream",
     "text": [
      "3\n"
     ]
    }
   ],
   "source": [
    "#Bai 7\n",
    "a, b, c, d = map(int, input().split())\n",
    "print(min(a, b, c, d))"
   ]
  },
  {
   "cell_type": "code",
   "execution_count": 12,
   "id": "03b9f477-ac4d-4885-b31f-b0138b1c7816",
   "metadata": {},
   "outputs": [
    {
     "name": "stdin",
     "output_type": "stream",
     "text": [
      " 2 3 4 1 5 5\n"
     ]
    },
    {
     "name": "stdout",
     "output_type": "stream",
     "text": [
      "x = 1.0\n",
      "y = 1.0\n"
     ]
    }
   ],
   "source": [
    "#Bai 8\n",
    "a, b, c, d, m, n = map(int, input().split())\n",
    "print(\"x =\", (d * m - b * n) / (a * d - b * c))\n",
    "print(\"y =\", (c * m - a * n) / (c * b - a * d))"
   ]
  },
  {
   "cell_type": "code",
   "execution_count": 14,
   "id": "f3e08478-a6b2-4feb-a0f4-8fc50247c56d",
   "metadata": {},
   "outputs": [
    {
     "name": "stdin",
     "output_type": "stream",
     "text": [
      " 7300\n"
     ]
    },
    {
     "name": "stdout",
     "output_type": "stream",
     "text": [
      "2 gio 1 phut 40 giay\n"
     ]
    }
   ],
   "source": [
    "#Bai 9\n",
    "x = int(input())\n",
    "h = x // 3600\n",
    "x %= 3600\n",
    "p = x // 60\n",
    "x %= 60\n",
    "print(h, \"gio\", p, \"phut\", x, \"giay\")"
   ]
  },
  {
   "cell_type": "code",
   "execution_count": 16,
   "id": "7c92394e-45c2-4f6e-892c-f87c00d1361a",
   "metadata": {},
   "outputs": [
    {
     "name": "stdin",
     "output_type": "stream",
     "text": [
      " 0 0 3 0 -3\n"
     ]
    },
    {
     "name": "stdout",
     "output_type": "stream",
     "text": [
      "Yes\n"
     ]
    }
   ],
   "source": [
    "#Bai 10\n",
    "a, b, r, x, y = map(int, input().split())\n",
    "if ((x - a)**2 + (y - b)**2 == r**2): print(\"Yes\")\n",
    "else: print(\"No\")"
   ]
  },
  {
   "cell_type": "code",
   "execution_count": 18,
   "id": "267f60b9-e24e-46be-8580-0f304d837f1d",
   "metadata": {},
   "outputs": [
    {
     "name": "stdin",
     "output_type": "stream",
     "text": [
      " 2.5 1.5\n"
     ]
    },
    {
     "name": "stdout",
     "output_type": "stream",
     "text": [
      "3.952847075210474\n"
     ]
    }
   ],
   "source": [
    "#Bai 11\n",
    "x, y = map(float, input().split())\n",
    "print(x**y)"
   ]
  }
 ],
 "metadata": {
  "kernelspec": {
   "display_name": "Python 3 (ipykernel)",
   "language": "python",
   "name": "python3"
  },
  "language_info": {
   "codemirror_mode": {
    "name": "ipython",
    "version": 3
   },
   "file_extension": ".py",
   "mimetype": "text/x-python",
   "name": "python",
   "nbconvert_exporter": "python",
   "pygments_lexer": "ipython3",
   "version": "3.13.7"
  }
 },
 "nbformat": 4,
 "nbformat_minor": 5
}
