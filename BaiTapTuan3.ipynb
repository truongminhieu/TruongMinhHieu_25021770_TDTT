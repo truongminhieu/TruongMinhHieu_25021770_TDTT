{
 "cells": [
  {
   "cell_type": "code",
   "execution_count": 1,
   "id": "c37de860-65b9-4434-aeae-50a3b379958f",
   "metadata": {},
   "outputs": [
    {
     "name": "stdin",
     "output_type": "stream",
     "text": [
      " 1 2\n"
     ]
    },
    {
     "name": "stdout",
     "output_type": "stream",
     "text": [
      "2 1\n"
     ]
    }
   ],
   "source": [
    "#W3A2\n",
    "a, b = map(int, input().split())\n",
    "c = a ^ b;\n",
    "a ^= c;\n",
    "b ^= c;\n",
    "print(a, b)"
   ]
  },
  {
   "cell_type": "code",
   "execution_count": 2,
   "id": "67b5285a-37e0-4983-b55e-6923da09dbe0",
   "metadata": {},
   "outputs": [
    {
     "name": "stdin",
     "output_type": "stream",
     "text": [
      " 8\n"
     ]
    },
    {
     "name": "stdout",
     "output_type": "stream",
     "text": [
      "Co\n"
     ]
    }
   ],
   "source": [
    "#W3A3\n",
    "n = int(input())\n",
    "if (n & (n - 1) == 0): print(\"Co\")\n",
    "else: print(\"Khong\")"
   ]
  },
  {
   "cell_type": "code",
   "execution_count": 3,
   "id": "00f579b5-4c42-488f-8e16-30344bc4fd12",
   "metadata": {},
   "outputs": [
    {
     "name": "stdin",
     "output_type": "stream",
     "text": [
      " 3 2\n"
     ]
    },
    {
     "name": "stdout",
     "output_type": "stream",
     "text": [
      "1\n"
     ]
    }
   ],
   "source": [
    "#W3A4\n",
    "m, n = map(int, input().split())\n",
    "print(m // n)"
   ]
  },
  {
   "cell_type": "code",
   "execution_count": 5,
   "id": "4834c46c-1cce-45c6-8f4e-62e08864a889",
   "metadata": {},
   "outputs": [
    {
     "name": "stdin",
     "output_type": "stream",
     "text": [
      " 3 2\n"
     ]
    },
    {
     "name": "stdout",
     "output_type": "stream",
     "text": [
      "2\n"
     ]
    }
   ],
   "source": [
    "#W3A5\n",
    "m, n = map(int, input().split())\n",
    "print(round(m / n))"
   ]
  },
  {
   "cell_type": "code",
   "execution_count": 6,
   "id": "94621d6a-5cc4-4e1a-9a4b-6afc2da9158e",
   "metadata": {},
   "outputs": [
    {
     "name": "stdin",
     "output_type": "stream",
     "text": [
      " 3\n"
     ]
    },
    {
     "name": "stdout",
     "output_type": "stream",
     "text": [
      "Odd\n"
     ]
    }
   ],
   "source": [
    "#W3A6\n",
    "n = int(input())\n",
    "if (n % 2 == 0): print(\"Even\")\n",
    "else: print(\"Odd\")"
   ]
  },
  {
   "cell_type": "code",
   "execution_count": 8,
   "id": "b108c636-c872-4f8f-b472-85846e2350b2",
   "metadata": {},
   "outputs": [
    {
     "name": "stdin",
     "output_type": "stream",
     "text": [
      " -4 -3\n"
     ]
    },
    {
     "name": "stdout",
     "output_type": "stream",
     "text": [
      "Yes\n"
     ]
    }
   ],
   "source": [
    "#W3A7\n",
    "a, b = map(int, input().split())\n",
    "if (a < 0 and b < 0): print(\"Yes\")\n",
    "else: print(\"No\")"
   ]
  },
  {
   "cell_type": "code",
   "execution_count": 12,
   "id": "7fae3a3e-53e5-4b9c-a270-2aead1a7ea97",
   "metadata": {},
   "outputs": [
    {
     "name": "stdin",
     "output_type": "stream",
     "text": [
      " hello goodbye\n"
     ]
    },
    {
     "name": "stdout",
     "output_type": "stream",
     "text": [
      "False\n"
     ]
    }
   ],
   "source": [
    "#W3A8\n",
    "a, b = map(str, input().split())\n",
    "if (len(a) > len(b)): print(\"True\")\n",
    "else: print(\"False\")"
   ]
  },
  {
   "cell_type": "code",
   "execution_count": 13,
   "id": "3263ffb3-7796-4c8f-9d02-b684dee42abe",
   "metadata": {},
   "outputs": [
    {
     "name": "stdin",
     "output_type": "stream",
     "text": [
      " 3 4 5\n"
     ]
    },
    {
     "name": "stdout",
     "output_type": "stream",
     "text": [
      "Yes\n"
     ]
    }
   ],
   "source": [
    "#W3A9\n",
    "a, b, c = map(int, input().split())\n",
    "if (a + b > c and b + c > a and c + a > b): print(\"Yes\")\n",
    "else: print(\"No\")"
   ]
  },
  {
   "cell_type": "code",
   "execution_count": 15,
   "id": "5992f2e5-de78-49e8-a447-3a16c3151dcd",
   "metadata": {},
   "outputs": [
    {
     "name": "stdin",
     "output_type": "stream",
     "text": [
      " 5 10 4 2\n"
     ]
    },
    {
     "name": "stdout",
     "output_type": "stream",
     "text": [
      "10\n"
     ]
    }
   ],
   "source": [
    "#W3A10\n",
    "a, b, c, d = map(int, input().split())\n",
    "print(max(a, b, c, d))"
   ]
  },
  {
   "cell_type": "code",
   "execution_count": 18,
   "id": "ae5cfd28-e930-4e67-8a38-5cb0236fef24",
   "metadata": {},
   "outputs": [
    {
     "name": "stdin",
     "output_type": "stream",
     "text": [
      " 4 4 6\n"
     ]
    },
    {
     "name": "stdout",
     "output_type": "stream",
     "text": [
      "Tam giác cân\n"
     ]
    }
   ],
   "source": [
    "#W3A11\n",
    "a, b, c = map(int, input().split())\n",
    "if (a + b > c and b + c > a and c + a > b):\n",
    "    if (a == b == c): print(\"Tam giác đều\")\n",
    "    elif ((a == b != c) or (b == c != a) or (c == a != b)): print(\"Tam giác cân\")\n",
    "    else: print(\"Tam giác thường\")\n",
    "else: print(\"Không phải tam giác\")"
   ]
  },
  {
   "cell_type": "code",
   "execution_count": 19,
   "id": "8447bd1c-ffcb-4685-9a5e-7b707db6a65c",
   "metadata": {},
   "outputs": [
    {
     "name": "stdin",
     "output_type": "stream",
     "text": [
      " 2024\n"
     ]
    },
    {
     "name": "stdout",
     "output_type": "stream",
     "text": [
      "Yes\n"
     ]
    }
   ],
   "source": [
    "#W3A12\n",
    "n = int(input())\n",
    "if ((n % 4 == 0 and n % 100 != 0) or (n % 400 == 0)): print(\"Yes\")\n",
    "else: print(\"No\")"
   ]
  },
  {
   "cell_type": "code",
   "execution_count": 21,
   "id": "aa0451bb-3eae-4627-b4dc-5a6c2128607e",
   "metadata": {},
   "outputs": [
    {
     "name": "stdin",
     "output_type": "stream",
     "text": [
      " 2 -3\n"
     ]
    },
    {
     "name": "stdout",
     "output_type": "stream",
     "text": [
      "1.50\n"
     ]
    }
   ],
   "source": [
    "#W3A14\n",
    "a, b = map(int, input().split())\n",
    "if (a == 0 and b == 0): print(\"Vô số nghiệm\")\n",
    "elif (a == 0 and b != 0): print(\"Vô nghiệm\")\n",
    "else: print(f\"{-b / a:.2f}\")"
   ]
  },
  {
   "cell_type": "code",
   "execution_count": 24,
   "id": "452dbc1f-74e7-4369-ae7b-a6f53819eafb",
   "metadata": {},
   "outputs": [
    {
     "name": "stdin",
     "output_type": "stream",
     "text": [
      " 10\n"
     ]
    },
    {
     "name": "stdout",
     "output_type": "stream",
     "text": [
      "Giỏi\n"
     ]
    }
   ],
   "source": [
    "#W3A15\n",
    "x = float(input())\n",
    "if (x < 5): print(\"Yếu\")\n",
    "elif (5 <= x < 6.5): print(\"Trung bình\")\n",
    "elif (6.5 <= x < 8): print(\"Khá\")\n",
    "else: print(\"Giỏi\")"
   ]
  },
  {
   "cell_type": "code",
   "execution_count": 33,
   "id": "12fc6af2-b1e6-4c7d-9b3a-1912a77fedbe",
   "metadata": {},
   "outputs": [
    {
     "name": "stdin",
     "output_type": "stream",
     "text": [
      " 1.23\n"
     ]
    },
    {
     "name": "stdout",
     "output_type": "stream",
     "text": [
      "1.2"
     ]
    }
   ],
   "source": [
    "#W3A16\n",
    "import math\n",
    "x = float(input())\n",
    "print(math.ceil(x), math.)"
   ]
  },
  {
   "cell_type": "code",
   "execution_count": 27,
   "id": "91206d1a-063e-4370-85ee-409abd4bd954",
   "metadata": {},
   "outputs": [
    {
     "name": "stdin",
     "output_type": "stream",
     "text": [
      " 2 4 8 16\n"
     ]
    },
    {
     "name": "stdout",
     "output_type": "stream",
     "text": [
      "Yes\n"
     ]
    }
   ],
   "source": [
    "#W3A17\n",
    "a, b, c, d = map(int, input().split())\n",
    "if (b % a != 0): print(\"No\")\n",
    "else:\n",
    "    x = b / a\n",
    "    if (a * x == b and b * x == c and c * x == d): print(\"Yes\")\n",
    "    else: print(\"No\")"
   ]
  }
 ],
 "metadata": {
  "kernelspec": {
   "display_name": "Python 3 (ipykernel)",
   "language": "python",
   "name": "python3"
  },
  "language_info": {
   "codemirror_mode": {
    "name": "ipython",
    "version": 3
   },
   "file_extension": ".py",
   "mimetype": "text/x-python",
   "name": "python",
   "nbconvert_exporter": "python",
   "pygments_lexer": "ipython3",
   "version": "3.13.7"
  }
 },
 "nbformat": 4,
 "nbformat_minor": 5
}
